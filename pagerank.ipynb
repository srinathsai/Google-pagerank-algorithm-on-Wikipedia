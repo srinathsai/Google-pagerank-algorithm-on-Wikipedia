{
  "cells": [
    {
      "cell_type": "markdown",
      "metadata": {
        "id": "b2CNA__TDhtr"
      },
      "source": [
        "##Initial process of making M into file and r_old into file"
      ]
    },
    {
      "cell_type": "code",
      "execution_count": 1,
      "metadata": {
        "colab": {
          "base_uri": "https://localhost:8080/"
        },
        "id": "nNa7DGSthBlg",
        "outputId": "b936b1c9-bdcc-4ebf-b994-09d4bf919a11"
      },
      "outputs": [
        {
          "name": "stdout",
          "output_type": "stream",
          "text": [
            "Drive already mounted at /content/drive; to attempt to forcibly remount, call drive.mount(\"/content/drive\", force_remount=True).\n"
          ]
        }
      ],
      "source": [
        "from google.colab import drive\n",
        "drive.mount('/content/drive')"
      ]
    },
    {
      "cell_type": "code",
      "execution_count": 2,
      "metadata": {
        "id": "BqBs0isupVPP"
      },
      "outputs": [],
      "source": [
        "#folder = ''\n",
        "import os\n",
        "import re\n",
        "#articles_list = []\n",
        "M_matrix=open('M.txt','w')\n",
        "#r_old_initial=open('r_old','w')\n",
        "for root, dirs, files in os.walk(\"/content/drive/MyDrive/Dataset\"):\n",
        "    for file in files:\n",
        "        if file.endswith('.txt'):\n",
        "            with open(os.path.join(root, file), 'r') as f:\n",
        "                text = f.read()\n",
        "                y=text.split('</title')\n",
        "                z=y[0].split('<title>')\n",
        "                each_row=()\n",
        "                m=[m1.start() for m1 in re.finditer('\\[\\[', y[1])]\n",
        "                n=[n1.start() for n1 in re.finditer('\\]\\]', y[1])]\n",
        "                destinations=[]\n",
        "                if((len(m)>0 and len(n)>0) and (len(m)==len(n))):\n",
        "                  for i in range(0,len(m)):\n",
        "                    if(y[1][m[i]+2:n[i]] not in destinations):\n",
        "                      destinations.append(y[1][m[i]+2:n[i]])\n",
        "                each_row=(z[1],len(destinations),destinations)\n",
        "                if(each_row[1]>0):\n",
        "                  M_matrix.write(str(each_row[0]) + '||#' + str(each_row[1]) + '||#' +  str(each_row[2]))\n",
        "                  M_matrix.write(\"\\n\")\n",
        "                  #r_old_initial.write(str(each_row[0]) + ':-' + )\n",
        "M_matrix.close()\n",
        "                  \n",
        "\n",
        "\n",
        "\n"
      ]
    },
    {
      "cell_type": "code",
      "execution_count": 3,
      "metadata": {
        "colab": {
          "base_uri": "https://localhost:8080/"
        },
        "id": "FogBxqaNY1s1",
        "outputId": "6d488a6d-2236-46c8-9077-3ae6881aec85"
      },
      "outputs": [
        {
          "name": "stdout",
          "output_type": "stream",
          "text": [
            "Total Number of Page sources in M without zero degree: 38302\n"
          ]
        }
      ],
      "source": [
        "with open(r\"M.txt\", 'r') as fp:\n",
        "  N = len(fp.readlines())\n",
        "  print('Total Number of Page sources in M without zero degree:', N)\n"
      ]
    },
    {
      "cell_type": "code",
      "execution_count": 4,
      "metadata": {
        "id": "grmaaVP0lLEg"
      },
      "outputs": [],
      "source": [
        "beta=0.8\n",
        "r_new={}"
      ]
    },
    {
      "cell_type": "code",
      "execution_count": 5,
      "metadata": {
        "id": "H7r0-ObQmcj6"
      },
      "outputs": [],
      "source": [
        "r_old_initial=open('r_old','w')\n",
        "with open('M.txt') as f:\n",
        "    for line in f:\n",
        "        line_cache=line.split('||#')\n",
        "        r_old_initial.write(str(line_cache[0]) + ':-' + str(1/N))\n",
        "        r_old_initial.write(\"\\n\")\n",
        "        #r_new[line_cache[0]]=((1-beta)/N)\n",
        "r_old_initial.close()\n",
        "\n"
      ]
    },
    {
      "cell_type": "code",
      "execution_count": 6,
      "metadata": {
        "id": "lynhZLZv9Ym7"
      },
      "outputs": [],
      "source": [
        "with open('r_old') as f:\n",
        "  for line in f:\n",
        "    rank_cache=line.split(':-')\n",
        "    r_new[rank_cache[0]]=((1-beta)/N)"
      ]
    },
    {
      "cell_type": "markdown",
      "metadata": {
        "id": "aP5-BSGlDxlV"
      },
      "source": [
        "##Algorithm implementation"
      ]
    },
    {
      "cell_type": "code",
      "execution_count": 7,
      "metadata": {
        "id": "_QD0JNtfJh3A"
      },
      "outputs": [],
      "source": [
        "from ast import literal_eval"
      ]
    },
    {
      "cell_type": "code",
      "execution_count": 8,
      "metadata": {
        "id": "hStU4BP6ybjm"
      },
      "outputs": [],
      "source": [
        "import time\n"
      ]
    },
    {
      "cell_type": "code",
      "execution_count": 9,
      "metadata": {
        "id": "wXgPU_BDDwe2"
      },
      "outputs": [],
      "source": [
        "start_time = time.time()\n",
        "for i in range(1,16):\n",
        "  for x in r_new:\n",
        "    destinations=[]\n",
        "    degree=0\n",
        "    r_old_value=0.000000\n",
        "    with open(r\"M.txt\",'r') as f:\n",
        "      for line_number,line in enumerate(f):\n",
        "        line_cache=line.split('||#')\n",
        "        if(x==line_cache[0]):\n",
        "          degree=int(line_cache[1])\n",
        "          destinations=literal_eval(line_cache[2])\n",
        "          break\n",
        "    with open(r\"r_old\",'r') as f:\n",
        "      for line_number,line in enumerate(f):\n",
        "        r_old_cache=line.split(':-')\n",
        "        if(r_old_cache[0]==x):\n",
        "          m = re.findall(r'\\d+\\.\\d+', r_old_cache[1])\n",
        "          r_old_value=float(m[0])\n",
        "          break\n",
        "   \n",
        "    for destination in destinations:\n",
        "      if(destination in r_new):\n",
        "        for j in range(1,degree+1):\n",
        "          r_new[destination]=beta*(r_old_value/degree) +(1-beta)/N\n",
        "\n",
        "    sum=0\n",
        "    for x in r_new:\n",
        "      sum+=r_new[x]\n",
        "    for x in r_new:\n",
        "      r_new[x]+=(1-sum)/N\n",
        "    r_new1=open('r_old','w')\n",
        "    for y in r_new:\n",
        "      r_new1.write(str(y) + ':-' + str(r_new[y]))\n",
        "      r_new1.write(\"\\n\")\n",
        "    r_new1.close()\n",
        "\n",
        "end_time=time.time()\n",
        "  \n",
        "\n",
        "\n",
        "\n"
      ]
    },
    {
      "cell_type": "code",
      "execution_count": 10,
      "metadata": {
        "colab": {
          "base_uri": "https://localhost:8080/"
        },
        "id": "HAr4md8Byk1K",
        "outputId": "358ac64e-2ccc-4950-ae37-7453f13ca5d9"
      },
      "outputs": [
        {
          "name": "stdout",
          "output_type": "stream",
          "text": [
            "execution time is :-63150.17719197273\n"
          ]
        }
      ],
      "source": [
        "print('execution time is :-' + str(end_time-start_time))"
      ]
    },
    {
      "cell_type": "markdown",
      "metadata": {
        "id": "6T-F76mosDZA"
      },
      "source": [
        "##Validity of my implementation."
      ]
    },
    {
      "cell_type": "code",
      "execution_count": 11,
      "metadata": {
        "colab": {
          "base_uri": "https://localhost:8080/"
        },
        "id": "CzvUgeZiYSXD",
        "outputId": "881938a3-5e19-43cb-af05-87882a2bbd6b"
      },
      "outputs": [
        {
          "name": "stdout",
          "output_type": "stream",
          "text": [
            "0.9997553395888826\n"
          ]
        }
      ],
      "source": [
        "sum=0;\n",
        "for x in r_new:\n",
        "  sum+=r_new[x]\n",
        "print(sum)"
      ]
    },
    {
      "cell_type": "markdown",
      "metadata": {
        "id": "L4a0JVJ9vNzb"
      },
      "source": [
        "##Output"
      ]
    },
    {
      "cell_type": "code",
      "execution_count": 20,
      "metadata": {
        "colab": {
          "base_uri": "https://localhost:8080/"
        },
        "id": "rtERmmZysvSc",
        "outputId": "c83cebd1-f2fe-4b98-ed74-9e4d10fa7cbf"
      },
      "outputs": [
        {
          "name": "stdout",
          "output_type": "stream",
          "text": [
            "James Edward Keeler:0.07904241858745437\n",
            "Duck:0.07831784025668051\n",
            "Category:Social sciences:0.07536642960715785\n",
            "Wallbach, Switzerland:0.07485269058668212\n",
            "Fremantle, Western Australia:0.07452869784595176\n",
            "Mary, Crown Princess of Denmark:0.07337437524636131\n",
            "Sendero Luminoso:0.0701641185389771\n",
            "Eastern long-beaked echidna:0.06885054355985401\n",
            "Continental drift:0.06702555004102609\n",
            "2004 Redfern riots:0.06693185479334485\n",
            "Jester:0.06656872788105003\n",
            "Becker (TV series):0.06522376225418934\n",
            "Sibling:0.06378160679742978\n",
            "Virus:0.06316320450044295\n",
            "Western long-beaked echidna:0.06241108373065668\n",
            "Salamander:0.06188671101753893\n",
            "Psychokinesis:0.06106585179142002\n",
            "May 1:0.0591527877121967\n",
            "Tyndareus:0.05779078786611759\n",
            "Christoph Willibald von Gluck:0.057002191732901844\n",
            "Union for a Popular Movement:0.05682415784185709\n",
            "Sanjo Station (Kyoto):0.05618128414137368\n",
            "Twin town:0.05580782777799577\n",
            "Tour of Britain:0.05507216705676146\n",
            "Arachnid:0.05479772816033096\n"
          ]
        }
      ],
      "source": [
        "from collections import OrderedDict\n",
        "descending_page_ranks = OrderedDict(sorted(r_new.items(), key=lambda x: x[1], reverse=True))\n",
        "output=[]\n",
        "for x in descending_page_ranks:\n",
        "  output.append((x,descending_page_ranks[x]/100))\n",
        "for i in range(0,25):\n",
        "  print(str(output[i][0]) + \":\" + str(output[i][1]))"
      ]
    }
  ],
  "metadata": {
    "accelerator": "GPU",
    "colab": {
      "machine_shape": "hm",
      "provenance": []
    },
    "gpuClass": "premium",
    "kernelspec": {
      "display_name": "Python 3",
      "name": "python3"
    },
    "language_info": {
      "name": "python"
    }
  },
  "nbformat": 4,
  "nbformat_minor": 0
}
